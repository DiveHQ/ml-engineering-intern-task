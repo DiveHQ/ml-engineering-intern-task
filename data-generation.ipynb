{
 "cells": [
  {
   "attachments": {},
   "cell_type": "markdown",
   "metadata": {},
   "source": [
    "# Data Generation"
   ]
  },
  {
   "attachments": {},
   "cell_type": "markdown",
   "metadata": {},
   "source": [
    "We are going to use this repository to generate training data as mentioned in the document using OpenAI API and prompt engineering"
   ]
  },
  {
   "cell_type": "code",
   "execution_count": 13,
   "metadata": {},
   "outputs": [],
   "source": [
    "# Importing libraries and keys\n",
    "import openai\n",
    "import yaml\n",
    "from yaml.loader import SafeLoader\n",
    "with open('env.yml') as f:\n",
    "    data = yaml.load(f, Loader=SafeLoader)\n",
    "openai.organization = data[\"OPEN_API_ORG\"]\n",
    "openai.api_key = data[\"OPENAI_API_KEY\"]"
   ]
  },
  {
   "cell_type": "code",
   "execution_count": 14,
   "metadata": {},
   "outputs": [],
   "source": [
    "def get_completion(prompt, model=\"gpt-3.5-turbo\"):\n",
    "    messages = [{\"role\": \"user\", \"content\": prompt}]\n",
    "    response = openai.ChatCompletion.create(\n",
    "        model=model,\n",
    "        messages=messages,\n",
    "        temperature=0, # this is the degree of randomness of the model's output\n",
    "    )\n",
    "    return response.choices[0].message[\"content\"]"
   ]
  },
  {
   "cell_type": "code",
   "execution_count": 16,
   "metadata": {},
   "outputs": [
    {
     "name": "stdout",
     "output_type": "stream",
     "text": [
      "```\n",
      "\"00:00:00\",\"00:00:05\",\"John\",\"Hey guys, how's everyone doing today?\"\n",
      "\"00:00:05\",\"00:00:10\",\"Sarah\",\"I'm doing pretty well, thanks for asking.\"\n",
      "\"00:00:10\",\"00:00:15\",\"Mark\",\"Same here, just trying to stay productive.\"\n",
      "\"00:00:15\",\"00:00:20\",\"Emily\",\"I'm feeling a bit overwhelmed, to be honest.\"\n",
      "\"00:00:20\",\"00:00:25\",\"John\",\"Oh no, what's going on Emily?\"\n"
     ]
    }
   ],
   "source": [
    "example_row = \"\"\"\n",
    "“01:00:00”,“01:00:20”,“Alice”,“Hello everyone!”\n",
    "\"01:00:00\",\"01:01:20\",\"Bob\",\"Today we are going to discuss about overall product metrics\"\n",
    "\"12:01:34\",\"12:01:50\",\"Tay\",\"Awesome, thanks for informing about that!\"\n",
    "\"\"\"\n",
    "prompt = f\"\"\"\n",
    "Generate an audio transcript of a multi turn conversation. \\\n",
    "The generated text should have similar structure to the example delimited with triple backticks\n",
    "\n",
    "Example Transcription: ```{example_row}```\n",
    "The conversation would have only 5 turns.\n",
    "\"\"\"\n",
    "repsonse = get_completion(prompt)\n",
    "print(repsonse)"
   ]
  },
  {
   "attachments": {},
   "cell_type": "markdown",
   "metadata": {},
   "source": [
    "So We can generate a good multi-turn conversation here and in the desired format, but the transcripts do not contain any good information or action items, that canc be extracted.<br>\n",
    "So we will now try to modify the prompt to describe the environment and if we want something to be discussed in the conversation"
   ]
  },
  {
   "cell_type": "code",
   "execution_count": 19,
   "metadata": {},
   "outputs": [
    {
     "name": "stdout",
     "output_type": "stream",
     "text": [
      "```\n",
      "\"09:00:00\",\"09:00:10\",\"John\",\"Good morning everyone, let's start the weekly standup meeting.\"\n",
      "\"09:00:10\",\"09:00:20\",\"Alice\",\"Hi John, I have an update on the new feature we are working on. We have completed the design and are now moving to the development phase.\"\n",
      "\"09:00:20\",\"09:00:30\",\"John\",\"Great to hear that Alice. Bob, do you have any updates on the product metrics?\"\n",
      "\"09:00:30\",\"09:00:40\",\"Bob\",\"Yes John, we have seen a 10% increase in user engagement since the last update. However, we still need to work on reducing the app's loading time.\"\n",
      "\"09:00:40\",\"09:00:50\",\"John\",\"Thanks for the update Bob. Tay, have you found any new bugs in the app?\"\n",
      "\"09:00:50\",\"09:01:00\",\"Tay\",\"Yes John, we have identified a few bugs in the payment gateway. We are working on fixing them as soon as possible.\"\n",
      "\"09:01:00\",\"09:01:10\",\"John\",\"Thanks for letting us know Tay. So, what are the next steps for the team?\"\n",
      "\"09:01:10\",\"09:01:20\",\"Alice\",\"We will continue working on the new feature and aim to complete the development phase by the end of the week.\"\n",
      "\"09:01:20\",\"09:01:30\",\"Bob\",\"I will work on improving the app's loading time and also analyze the user engagement data to identify any patterns.\"\n",
      "\"09:01:30\",\"09:01:40\",\"Tay\",\"I will focus on fixing the bugs in the payment gateway and also run some tests to ensure that everything is working smoothly.\"\n",
      "\"09:01:40\",\"09:01:50\",\"John\",\"Great, let's aim to complete these tasks by the end of the week. Thanks everyone for the updates and let's continue to work towards improving the app.\"\n"
     ]
    }
   ],
   "source": [
    "example_row = \"\"\"\n",
    "“01:00:00”,“01:00:20”,“Alice”,“Hello everyone!”\n",
    "\"01:00:00\",\"01:01:20\",\"Bob\",\"Today we are going to discuss about overall product metrics\"\n",
    "\"12:01:34\",\"12:01:50\",\"Tay\",\"Awesome, thanks for informing about that!\"\n",
    "\"\"\"\n",
    "conv_env = \"weekly standup meeting of an app development team\"\n",
    "conv_topics = \"bugs and next steps.\"\n",
    "prompt = f\"\"\"\n",
    "Generate an audio transcript of a multi turn conversation of a {conv_env}  \\\n",
    "discussing about  {conv_topics} \\\n",
    "The generated text should have similar structure to the example delimited with triple backticks\n",
    "\n",
    "Example Transcription: ```{example_row}```\n",
    "The conversation would have only 5 turns.\n",
    "\"\"\"\n",
    "repsonse = get_completion(prompt)\n",
    "print(repsonse)"
   ]
  },
  {
   "attachments": {},
   "cell_type": "markdown",
   "metadata": {},
   "source": [
    "So above we can see that we can generate audio transcript pretty effectively for a given setting and also what type of things it should include.<br><br>\n",
    "But still there is a lot of noise and right now we just want to train a model to find action items and link them to the person mentioned in the same text. We should  modify our prompt accordingly nad also we can create labels as well"
   ]
  },
  {
   "cell_type": "code",
   "execution_count": 23,
   "metadata": {},
   "outputs": [
    {
     "name": "stdout",
     "output_type": "stream",
     "text": [
      "start_time,end_time,speaker,text,labels\n",
      "\"09:00:00\",\"09:01:30\",\"John\",\"Good morning everyone, let's start with the updates. We have successfully launched the new feature last week and we are seeing a positive response from the users.\",\"{\"text\": \"new feature launch\", \"assignee\": \"UNKNOWN\"}\"\n",
      "\"09:02:00\",\"09:03:30\",\"Sarah\",\"That's great news John. We have also noticed a decrease in the app's loading time after the recent optimization.\",\"{\"text\": \"app optimization\", \"assignee\": \"UNKNOWN\"}\"\n",
      "\"09:04:00\",\"09:05:30\",\"Tom\",\"I have been working on fixing the bugs reported by the users. We have resolved most of them and the remaining ones will be fixed by the end of this week.\",\"{\"text\": \"bug fixes\", \"assignee\": \"Tom\"}\"\n",
      "\"09:06:00\",\"09:07:30\",\"Alice\",\"I have been analyzing the product metrics and we have seen a significant increase in the user engagement. However, we need to work on improving the retention rate.\",\"{\"text\": \"improve retention rate\", \"assignee\": \"Alice\"}\"\n",
      "\"09:08:00\",\"09:09:30\",\"Bob\",\"Thanks for the updates everyone. Next, we need to focus on the next steps. We are planning to add a new feature that will enhance the user experience. I will be leading this project and will need support from the team.\",\"{\"text\": \"new feature development\", \"assignee\": \"Bob\"}\"\n",
      "\"09:10:00\",\"09:11:30\",\"John\",\"That sounds exciting Bob. Let's discuss the details after the standup. Also, we need to plan for the upcoming sprint and assign the tasks accordingly.\",\"{\"text\": \"sprint planning\", \"assignee\": \"UNKNOWN\"}\"\n",
      "\"09:12:00\",\"09:13:30\",\"Sarah\",\"I will take care of the sprint planning and will assign the tasks to the team members based on their expertise.\",\"{\"text\": \"sprint planning\", \"assignee\": \"Sarah\"}\"\n",
      "\"09:14:00\",\"09:15:30\",\"Tom\",\"I will continue to work on fixing the remaining bugs and will also assist Bob in the new feature development.\",\"{\"text\": \"bug fixes, new feature development\", \"assignee\": \"Tom\"}\"\n",
      "\"09:16:00\",\"09:17:30\",\"Alice\",\"I will work on improving the retention rate and will also assist Sarah in the sprint planning.\",\"{\"text\": \"improve retention rate, sprint planning\", \"assignee\": \"Alice\"}\"\n",
      "\"09:18:00\",\"09:19:30\",\"Bob\",\"Great, let's get to work then. Thanks everyone for the updates and see you all in the next standup.\",\"{\"text\": \"N/A\", \"assignee\": \"N/A\"}\"\n"
     ]
    }
   ],
   "source": [
    "transcript = \"\"\"\n",
    "start_time,end_time,speaker,text,labels\n",
    "“10:00:00”, “10:01:50”, “Bob“, “... Alice, can you take the UX bug? ...”,{\"text\": \"UX bug\", \"assignee\": \"Alice\"}\"\"\n",
    "“12:25:00”, “12:25:30”, “Alice”, ”... We need to plan for offsite next month ...”,\"{\"text\": \"plan for offsite next month\", \"assignee\": \"UNKNOWN\"}\"\n",
    "\"12:01:34\",\"12:01:50\",\"Tay\",\"Awesome, thanks for informing about that!\",\"{text:\"\",\"assignee\":\"N/A\"}\"\n",
    "\"\"\"\n",
    "prompt = f\"\"\"\n",
    "Create a csv containing 10 rows of audio transcript which are of tech company standups \\\n",
    "discussing about  {conv_topics}\\\n",
    "The csv should have a similar struture to the example csv \\\n",
    "delimited with triple backticks.\n",
    "\n",
    "Make sure each entry has a valid name.\n",
    "\n",
    "Example Transcription: ```{transcript}```\n",
    "\"\"\"\n",
    "response = get_completion(prompt)\n",
    "print(response)\n"
   ]
  },
  {
   "cell_type": "code",
   "execution_count": 22,
   "metadata": {},
   "outputs": [
    {
     "name": "stdout",
     "output_type": "stream",
     "text": [
      "\n",
      "Create a csv containing 10 rows of audio transcript which are of tech company standups where the call has an agenda and people are getting tasks assigned, and also From meeting transcripts, identify action items (tasks to be done) that were identified during the course of the meeting, and who they were assigned to.The csv should have a similar struture to the example csv delimited with triple backticks.\n",
      "\n",
      "Make sure each entry has a valid name.\n",
      "\n",
      "Example Transcription: ```\n",
      "start_time,end_time,speaker,text,labels\n",
      "“10:00:00”, “10:01:50”, “Bob“, “... Alice, can you take the UX bug? ...”,{\"text\": \"UX bug\", \"assignee\": \"Alice\"}\"\"\n",
      "“12:25:00”, “12:25:30”, “Alice”, ”... We need to plan for offsite next month ...”,\"{\"text\": \"plan for offsite next month\", \"assignee\": \"UNKNOWN\"}\"\n",
      "```\n",
      "\n"
     ]
    }
   ],
   "source": [
    "print(prompt)"
   ]
  },
  {
   "cell_type": "code",
   "execution_count": null,
   "metadata": {},
   "outputs": [],
   "source": []
  }
 ],
 "metadata": {
  "kernelspec": {
   "display_name": "Python 3",
   "language": "python",
   "name": "python3"
  },
  "language_info": {
   "codemirror_mode": {
    "name": "ipython",
    "version": 3
   },
   "file_extension": ".py",
   "mimetype": "text/x-python",
   "name": "python",
   "nbconvert_exporter": "python",
   "pygments_lexer": "ipython3",
   "version": "3.10.11"
  },
  "orig_nbformat": 4
 },
 "nbformat": 4,
 "nbformat_minor": 2
}
