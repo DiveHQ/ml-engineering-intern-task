{
 "cells": [
  {
   "cell_type": "code",
   "execution_count": 1,
   "id": "941c3be0-cf00-4a7d-bb9d-db2aead8b63a",
   "metadata": {
    "execution": {
     "iopub.execute_input": "2023-05-08T12:05:12.126992Z",
     "iopub.status.busy": "2023-05-08T12:05:12.126312Z",
     "iopub.status.idle": "2023-05-08T12:05:14.009586Z",
     "shell.execute_reply": "2023-05-08T12:05:14.008686Z",
     "shell.execute_reply.started": "2023-05-08T12:05:12.126947Z"
    }
   },
   "outputs": [],
   "source": [
    "import pandas as pd\n",
    "import json\n",
    "from datasets import Dataset, load_metric\n",
    "from transformers import AutoTokenizer, BartForConditionalGeneration"
   ]
  },
  {
   "cell_type": "code",
   "execution_count": 3,
   "id": "d6f34367-2a18-4ad7-997e-d0a35fbaae77",
   "metadata": {
    "execution": {
     "iopub.execute_input": "2023-05-08T12:05:24.190513Z",
     "iopub.status.busy": "2023-05-08T12:05:24.189919Z",
     "iopub.status.idle": "2023-05-08T12:05:32.178429Z",
     "shell.execute_reply": "2023-05-08T12:05:32.177662Z",
     "shell.execute_reply.started": "2023-05-08T12:05:24.190513Z"
    }
   },
   "outputs": [
    {
     "name": "stdout",
     "output_type": "stream",
     "text": [
      "{'conversation': \"Zachary: Good morning everyone, let's start planning for our new construction project.\\nHannah: We have received the blueprints for the project and have identified the materials needed.\\nCaleb: I have contacted the suppliers and have received quotes for the materials.\\nZachary: Great, let's discuss the timeline for the project.\\nHannah: Based on the blueprints, we estimate the project will take 6 months to complete.\\nCaleb: I have created a project plan with milestones and deadlines.\\nZachary: Let's review the project plan and make any necessary adjustments.\\nHannah: We should also consider any potential delays or issues that may arise during the project.\\nCaleb: Agreed, we should have contingency plans in place.\\nZachary: Let's also discuss the budget for the project.\\nHannah: Based on the materials and labor costs, we estimate the project will cost $2 million.\\nCaleb: I have created a budget plan and will ensure we stay within budget throughout the project.\\nZachary: Great, let's finalize the project plan and budget and begin the construction.\\nHannah: I will ensure all necessary permits and approvals are obtained before we begin.\\nCaleb: I will coordinate with the construction team and ensure they have all the necessary resources.</s>\", 'action_item': 'Action Item:\\nReview project plan and make adjustments||All\\nConsider potential delays and issues||All\\nCreate contingency plans||All\\nFinalize project plan and budget||All\\nObtain necessary permits and approvals||Hannah\\nCoordinate with construction team||Caleb</s>'}\n",
      "{'conversation': \"Hannah: Good morning Olivia, I need to update my personal information on my policy.\\nOlivia: Sure Hannah, can you please provide me with your policy number?\\nHannah: Yes, it's 123456.\\nOlivia: Great, let me pull up your policy. What information do you need to update?\\nHannah: I recently moved, so I need to update my address and phone number.\\nOlivia: Okay, I have updated your address and phone number. Is there anything else you need to update?\\nHannah: No, that's it. Thank you for your help, Olivia.\\nOlivia: You're welcome, Hannah. Is there anything else I can assist you with?\\nHannah: No, that's all for now. Thank you again.\\nOlivia: You're welcome, have a great day!</s>\", 'action_item': 'Action Item:\\nUpdate personal information on policy||Olivia</s>'}\n",
      "{'conversation': \"James: Good morning everyone, welcome to the car detailing workshop. Let's get started.\\nRachel: I have been working on the exterior detailing and have found some new techniques to remove stubborn stains.\\nMadison: I have been working on the interior detailing and have found some new products that work well on leather seats.\\nJacob: I have been working on engine detailing and have found some new ways to clean the engine bay.\\nJacob: I have been working on the wheels and tires and have found some new products that work well on brake dust.\\nJames: Great work everyone. Madison, can you please share the details of the new products you found with the team?\\nMadison: Sure James, I will do that.\\nRachel: Jacob, can you please share the details of the new techniques you found for removing stubborn stains?\\nJacob: Sure Rachel, I will do that.\\nJames: Jacob, can you please share the details of the new ways you found to clean the engine bay?\\nJacob: Sure James, I will do that.\\nMadison: Rachel, can you please share the details of the new techniques you found for interior detailing?\\nRachel: Sure Madison, I will do that.</s>\", 'action_item': 'Action Item:\\nShare details of new products for leather seats||Madison\\nShare details of new techniques for removing stubborn stains||Jacob, Rachel\\nShare details of new ways to clean the engine bay||Jacob\\nCreate a report of the workshop||Unknown</s>'}\n"
     ]
    },
    {
     "name": "stderr",
     "output_type": "stream",
     "text": [
      "Token indices sequence length is longer than the specified maximum sequence length for this model (1336 > 1024). Running this sequence through the model will result in indexing errors\n"
     ]
    },
    {
     "name": "stdout",
     "output_type": "stream",
     "text": [
      "177\n",
      "1\n"
     ]
    }
   ],
   "source": [
    "df_train = pd.read_csv('dialogue.csv')\n",
    "df_train['id'] = df_train['id'].astype(str)\n",
    "\n",
    "# dataset = []\n",
    "with open('labels.json','r') as f:\n",
    "    labels = json.load(f)\n",
    "\n",
    "tokenizer = AutoTokenizer.from_pretrained(\"philschmid/bart-large-cnn-samsum\")\n",
    "\n",
    "model = BartForConditionalGeneration.from_pretrained(\"philschmid/bart-large-cnn-samsum\")\n",
    "\n",
    "end = tokenizer.special_tokens_map['eos_token']\n",
    "idx = 0\n",
    "dataset = []\n",
    "for i,item in enumerate(labels):\n",
    "    temp = {}\n",
    "    dialogues = df_train[df_train.id == item['id']][['speaker','text']].values\n",
    "    dialogues = [': '.join(x) for x in dialogues]\n",
    "    dialogue_str = '\\n'.join(dialogues)\n",
    "    temp['conversation'] = dialogue_str + end\n",
    "    temp['action_item'] = 'Action Item:\\n'+item['label'] + end \n",
    "    if len(tokenizer.encode(dialogue_str)) > 512:\n",
    "        continue\n",
    "    else:\n",
    "        dataset.append(temp)\n",
    "    if len(tokenizer.encode(temp['action_item'])) > 128:    \n",
    "        print(len(tokenizer.encode(item['label'])))\n",
    "        idx += 1\n",
    "    if i  <= 2:\n",
    "        print(temp)\n",
    "print(idx)"
   ]
  },
  {
   "cell_type": "code",
   "execution_count": 4,
   "id": "3d1559d0-184a-4706-b573-98af66f2d118",
   "metadata": {
    "execution": {
     "iopub.execute_input": "2023-05-08T12:05:32.181170Z",
     "iopub.status.busy": "2023-05-08T12:05:32.180186Z",
     "iopub.status.idle": "2023-05-08T12:05:32.431204Z",
     "shell.execute_reply": "2023-05-08T12:05:32.430405Z",
     "shell.execute_reply.started": "2023-05-08T12:05:32.181141Z"
    }
   },
   "outputs": [
    {
     "data": {
      "application/vnd.jupyter.widget-view+json": {
       "model_id": "46230293d8c040e8aceeb559c30324db",
       "version_major": 2,
       "version_minor": 0
      },
      "text/plain": [
       "Map:   0%|          | 0/165 [00:00<?, ? examples/s]"
      ]
     },
     "metadata": {},
     "output_type": "display_data"
    },
    {
     "data": {
      "application/vnd.jupyter.widget-view+json": {
       "model_id": "1e78ab73a2264ac59d2b1fbca742a92e",
       "version_major": 2,
       "version_minor": 0
      },
      "text/plain": [
       "Map:   0%|          | 0/42 [00:00<?, ? examples/s]"
      ]
     },
     "metadata": {},
     "output_type": "display_data"
    },
    {
     "data": {
      "text/plain": [
       "DatasetDict({\n",
       "    train: Dataset({\n",
       "        features: ['input_ids', 'attention_mask', 'labels'],\n",
       "        num_rows: 165\n",
       "    })\n",
       "    test: Dataset({\n",
       "        features: ['input_ids', 'attention_mask', 'labels'],\n",
       "        num_rows: 42\n",
       "    })\n",
       "})"
      ]
     },
     "execution_count": 4,
     "metadata": {},
     "output_type": "execute_result"
    }
   ],
   "source": [
    "    \n",
    "dataset = Dataset.from_list(dataset)\n",
    "dataset_dict = dataset.train_test_split(test_size=0.2,seed = 2) \n",
    "# dataset_dict['test'].to_csv('test.csv') # Saving the data externally for testing on other dataxs\n",
    "\n",
    "def preprocess_function(examples):\n",
    "    model_inputs = tokenizer(examples['conversation'],max_length=512, padding=\"max_length\")\n",
    "\n",
    "    # Setup the tokenizer for targets\n",
    "    with tokenizer.as_target_tokenizer():\n",
    "        labels = tokenizer(examples[\"action_item\"], max_length=256, padding=\"max_length\")\n",
    "\n",
    "    model_inputs[\"labels\"] = labels[\"input_ids\"]\n",
    "    return model_inputs\n",
    "\n",
    "tokenized_datasets = dataset_dict.map(preprocess_function, batched=True)\n",
    "\n",
    "tokenized_datasets = tokenized_datasets.remove_columns(['conversation','action_item'])\n",
    "\n",
    "tokenized_datasets"
   ]
  },
  {
   "cell_type": "code",
   "execution_count": 5,
   "id": "4f57d4cb-5c29-4630-b4d9-92ad5ef9a472",
   "metadata": {
    "execution": {
     "iopub.execute_input": "2023-05-08T12:05:32.432574Z",
     "iopub.status.busy": "2023-05-08T12:05:32.431866Z",
     "iopub.status.idle": "2023-05-08T12:05:32.438059Z",
     "shell.execute_reply": "2023-05-08T12:05:32.436732Z",
     "shell.execute_reply.started": "2023-05-08T12:05:32.432547Z"
    }
   },
   "outputs": [],
   "source": [
    "from torch.utils.data import DataLoader\n",
    "tokenized_datasets.set_format(\"torch\")\n",
    "train_dataloader = DataLoader(tokenized_datasets['train'], shuffle=True, batch_size=8)\n",
    "eval_dataloader = DataLoader(tokenized_datasets['test'], batch_size=8)"
   ]
  },
  {
   "cell_type": "code",
   "execution_count": 6,
   "id": "5d239e88-7cf6-4ecf-a8fd-c05e8ca9367a",
   "metadata": {
    "execution": {
     "iopub.execute_input": "2023-05-08T12:05:32.439872Z",
     "iopub.status.busy": "2023-05-08T12:05:32.438860Z",
     "iopub.status.idle": "2023-05-08T12:05:37.391341Z",
     "shell.execute_reply": "2023-05-08T12:05:37.390115Z",
     "shell.execute_reply.started": "2023-05-08T12:05:32.439847Z"
    }
   },
   "outputs": [],
   "source": [
    "from transformers import get_scheduler\n",
    "from torch.optim import AdamW\n",
    "import torch\n",
    "optimizer = AdamW(model.parameters(), lr=5e-5)\n",
    "num_epochs = 10\n",
    "num_training_steps = num_epochs * len(train_dataloader)\n",
    "lr_scheduler = get_scheduler(\n",
    "    name=\"linear\", optimizer=optimizer, num_warmup_steps=0, num_training_steps=num_training_steps\n",
    ")\n",
    "\n",
    "device = torch.device(\"cuda\") if torch.cuda.is_available() else torch.device(\"cpu\")\n",
    "model.to(device);"
   ]
  },
  {
   "cell_type": "code",
   "execution_count": 7,
   "id": "a4085d11-b84a-4b70-bc1d-91789e2a3a1b",
   "metadata": {
    "execution": {
     "iopub.execute_input": "2023-05-08T12:05:37.393263Z",
     "iopub.status.busy": "2023-05-08T12:05:37.392861Z",
     "iopub.status.idle": "2023-05-08T12:11:14.336567Z",
     "shell.execute_reply": "2023-05-08T12:11:14.335040Z",
     "shell.execute_reply.started": "2023-05-08T12:05:37.393263Z"
    }
   },
   "outputs": [
    {
     "data": {
      "application/vnd.jupyter.widget-view+json": {
       "model_id": "2c8fc471b26c4af9bb1104d0b19a7a80",
       "version_major": 2,
       "version_minor": 0
      },
      "text/plain": [
       "  0%|          | 0/210 [00:00<?, ?it/s]"
      ]
     },
     "metadata": {},
     "output_type": "display_data"
    },
    {
     "name": "stdout",
     "output_type": "stream",
     "text": [
      "4.542540845416841\n",
      "0.39337518953141715\n",
      "0.159246563911438\n",
      "0.09750879130193166\n",
      "0.07148587615007446\n",
      "0.054901179103624256\n",
      "0.0455659870945272\n",
      "0.0390991759264753\n",
      "0.036155523554909794\n",
      "0.03193759714208898\n"
     ]
    }
   ],
   "source": [
    "from tqdm.auto import tqdm\n",
    "\n",
    "progress_bar = tqdm(range(num_training_steps))\n",
    "\n",
    "model.train()\n",
    "for epoch in range(num_epochs):\n",
    "    total_loss = 0\n",
    "    for batch in train_dataloader:\n",
    "        batch = {k: v.to(device) for k, v in batch.items()}\n",
    "        outputs = model(**batch)\n",
    "        loss = outputs.loss\n",
    "        total_loss += loss.item()\n",
    "        loss.backward()\n",
    "        \n",
    "        optimizer.step()\n",
    "        lr_scheduler.step()\n",
    "        optimizer.zero_grad()\n",
    "        progress_bar.update(1)\n",
    "        torch.cuda.empty_cache()\n",
    "    print(total_loss/len(train_dataloader))"
   ]
  },
  {
   "cell_type": "code",
   "execution_count": 21,
   "id": "796cb980-3e44-4b3e-94fe-6e5b6b1aeb0b",
   "metadata": {
    "execution": {
     "iopub.execute_input": "2023-05-08T12:20:18.405828Z",
     "iopub.status.busy": "2023-05-08T12:20:18.405122Z",
     "iopub.status.idle": "2023-05-08T12:20:23.161664Z",
     "shell.execute_reply": "2023-05-08T12:20:23.160578Z",
     "shell.execute_reply.started": "2023-05-08T12:20:18.405828Z"
    }
   },
   "outputs": [],
   "source": [
    "with torch.no_grad():\n",
    "    for batch in eval_dataloader:\n",
    "        batch = {k: v.to(device) for k, v in batch.items()}\n",
    "        summary_ids = model.generate(batch[\"input_ids\"])\n",
    "        action_items = tokenizer.batch_decode(summary_ids, skip_special_tokens=True, clean_up_tokenization_spaces=False)\n",
    "\n",
    "        break"
   ]
  },
  {
   "cell_type": "code",
   "execution_count": 29,
   "id": "0b6f0833-aed7-40f1-be17-f0ff1370d5af",
   "metadata": {
    "execution": {
     "iopub.execute_input": "2023-05-08T12:24:02.727987Z",
     "iopub.status.busy": "2023-05-08T12:24:02.727569Z",
     "iopub.status.idle": "2023-05-08T12:24:02.736651Z",
     "shell.execute_reply": "2023-05-08T12:24:02.735442Z",
     "shell.execute_reply.started": "2023-05-08T12:24:02.727960Z"
    }
   },
   "outputs": [
    {
     "name": "stdout",
     "output_type": "stream",
     "text": [
      "Jenna: Good morning everyone, let's start our meeting on drug safety concerns.\n",
      "Benjamin: I have received some reports of adverse reactions to our new drug from a few patients.\n",
      "Andrew: I have also received similar reports from some doctors who have prescribed the drug.\n",
      "Nicholas: We need to investigate these reports and determine if there is a safety issue with the drug.\n",
      "Jenna: Agreed, we need to take this seriously and investigate thoroughly.\n",
      "Benjamin: I have already started gathering data on the reported cases and will share it with the team.\n",
      "Andrew: We should also review the clinical trial data to see if there were any indications of safety concerns.\n",
      "Nicholas: I will review the manufacturing process to see if there were any issues that could have led to the reported adverse reactions.\n",
      "Jenna: Great, let's all work together to get to the bottom of this and ensure the safety of our patients.\n",
      "Benjamin: I will also reach out to the patients who reported adverse reactions to get more information.\n",
      "Andrew: We should also consider issuing a warning to doctors who prescribe the drug until we have more information.\n",
      "Nicholas: Agreed, we need to be transparent with our stakeholders about any potential safety concerns.\n",
      "Jenna: Let's schedule a follow-up meeting in a week to discuss our findings and next steps.</s>\n",
      "Action Item:\n",
      "Gather data on reported cases||Benjamin\n",
      "Review clinical trial data||Andrew\n",
      "Review manufacturing process||Nicholas\n",
      "Reach out to patients for more information||Benjamin\n",
      "Consider issuing a warning to doctors||Andrew, Jenna\n",
      "Schedule follow-up meeting||Jenna</s>\n",
      "Action Item:\n",
      "Gather data on reported cases of adverse reactions to new drug||Benjamin\n",
      "Review clinical trial data||Andrew\n",
      "Review manufacturing process||Nicholas\n",
      "Reach out to patients who reported adverse reactions||Ben Benjamin\n",
      "Schedule follow-up meeting in a week||Jenna\n"
     ]
    }
   ],
   "source": [
    "print(dataset_dict['test'][6]['conversation'])\n",
    "print(dataset_dict['test'][6]['action_item'])\n",
    "print(action_items[6])\n",
    "\n"
   ]
  },
  {
   "cell_type": "code",
   "execution_count": 31,
   "id": "0e9008d1-6faa-490c-9fe6-da83a72f1b59",
   "metadata": {
    "execution": {
     "iopub.execute_input": "2023-05-08T12:30:06.468559Z",
     "iopub.status.busy": "2023-05-08T12:30:06.467553Z",
     "iopub.status.idle": "2023-05-08T12:30:09.423243Z",
     "shell.execute_reply": "2023-05-08T12:30:09.422314Z",
     "shell.execute_reply.started": "2023-05-08T12:30:06.468555Z"
    }
   },
   "outputs": [
    {
     "data": {
      "text/plain": [
       "('bart-finetuned-action-items/tokenizer_config.json',\n",
       " 'bart-finetuned-action-items/special_tokens_map.json',\n",
       " 'bart-finetuned-action-items/vocab.json',\n",
       " 'bart-finetuned-action-items/merges.txt',\n",
       " 'bart-finetuned-action-items/added_tokens.json',\n",
       " 'bart-finetuned-action-items/tokenizer.json')"
      ]
     },
     "execution_count": 31,
     "metadata": {},
     "output_type": "execute_result"
    }
   ],
   "source": [
    "model.save_pretrained('bart-finetuned-action-items')\n",
    "tokenizer.save_pretrained('bart-finetuned-action-items')"
   ]
  },
  {
   "cell_type": "code",
   "execution_count": null,
   "id": "d4b28761-75b6-46a9-a29c-d37394129f18",
   "metadata": {},
   "outputs": [],
   "source": []
  }
 ],
 "metadata": {
  "kernelspec": {
   "display_name": "Python 3 (ipykernel)",
   "language": "python",
   "name": "python3"
  },
  "language_info": {
   "codemirror_mode": {
    "name": "ipython",
    "version": 3
   },
   "file_extension": ".py",
   "mimetype": "text/x-python",
   "name": "python",
   "nbconvert_exporter": "python",
   "pygments_lexer": "ipython3",
   "version": "3.9.16"
  }
 },
 "nbformat": 4,
 "nbformat_minor": 5
}
